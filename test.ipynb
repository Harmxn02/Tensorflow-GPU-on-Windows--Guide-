{
 "cells": [
  {
   "cell_type": "markdown",
   "metadata": {},
   "source": [
    "# **Testing if libraries work**"
   ]
  },
  {
   "cell_type": "code",
   "execution_count": null,
   "metadata": {},
   "outputs": [],
   "source": [
    "import pandas as pd\n",
    "print(\"pandas: \", pd.__version__)\n",
    "\n",
    "import polars as pl\n",
    "print(\"polars: \", pl.__version__)\n",
    "\n",
    "import numpy as np\n",
    "print(\"numpy: \", np.__version__)\n",
    "\n",
    "import matplotlib.pyplot as plt\n",
    "print(\"matplotlib: \", plt.matplotlib.__version__)\n",
    "\n",
    "import seaborn as sns\n",
    "print(\"seaborn: \", sns.__version__)\n",
    "\n",
    "import sklearn\n",
    "print(\"sklearn: \", sklearn.__version__)\n",
    "\n",
    "import tensorflow as tf\n",
    "print(\"tensorflow: \", tf.__version__)\n",
    "\n",
    "\n",
    "\n",
    "### TENSORFLOW GPU CHECK\n",
    "\n",
    "# for device in tf.config.list_physical_devices():\n",
    "#     print(device)\n",
    "\n",
    "if \"GPU\" in [device.device_type for device in tf.config.list_physical_devices()]:\n",
    "    print(\"\\n✅ GPU is available for TensorFlow\")\n",
    "else:\n",
    "    print(\"\\n❌ GPU is not available for TensorFlow\")\n",
    "\n",
    "\n",
    "\n",
    "\n",
    "### POLARS GPU CHECK\n",
    "\n",
    "gpu_engine = pl.GPUEngine(\n",
    "        device=0, # This is the default\n",
    "        raise_on_fail=True, # Fail loudly if we can't run on the GPU.\n",
    ")\n",
    "\n",
    "if gpu_engine:\n",
    "    print(\"\\n✅ GPU is available for Polars\")\n",
    "else:\n",
    "    print(\"\\n❌ GPU is not available for Polars\")"
   ]
  }
 ],
 "metadata": {
  "kernelspec": {
   "display_name": "Python 3",
   "language": "python",
   "name": "python3"
  },
  "language_info": {
   "name": "python",
   "version": "3.11.8"
  }
 },
 "nbformat": 4,
 "nbformat_minor": 2
}
